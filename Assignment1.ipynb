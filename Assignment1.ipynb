{
  "metadata": {
    "kernelspec": {
      "name": "xpython",
      "display_name": "Python 3.13 (XPython)",
      "language": "python"
    },
    "language_info": {
      "file_extension": ".py",
      "mimetype": "text/x-python",
      "name": "python",
      "version": "3.13.1"
    }
  },
  "nbformat_minor": 5,
  "nbformat": 4,
  "cells": [
    {
      "id": "7da52670-4adc-4505-b567-a6c7882a27d0",
      "cell_type": "code",
      "source": "import numpy as np",
      "metadata": {
        "trusted": true
      },
      "outputs": [],
      "execution_count": 5
    },
    {
      "id": "187421c8-0f33-4334-84d9-58fddcfe7d04",
      "cell_type": "code",
      "source": "#Write a NumPy program to create a 5×5 matrix with values 1,2,3,…,25.\narray = np.array([\n    [1,2,3,4,5],\n    [6,7,8,9,10],\n    [11,12,13,14,15],\n    [16,17,18,19,20],\n    [21,22,23,24,25]\n])\nprint(array)",
      "metadata": {
        "trusted": true
      },
      "outputs": [
        {
          "name": "stdout",
          "output_type": "stream",
          "text": "[[ 1  2  3  4  5]\n [ 6  7  8  9 10]\n [11 12 13 14 15]\n [16 17 18 19 20]\n [21 22 23 24 25]]\n"
        }
      ],
      "execution_count": 6
    },
    {
      "id": "7aa41c28-1912-410a-8a27-a02e17699794",
      "cell_type": "code",
      "source": "#Generate a 4×4 identity matrix using NumPy\na = np.array([\n    [1,0,0,0],[0,1,0,0],[0,0,1,0],[0,0,0,1]\n])\nprint(a)",
      "metadata": {
        "trusted": true
      },
      "outputs": [
        {
          "name": "stdout",
          "output_type": "stream",
          "text": "[[1 0 0 0]\n [0 1 0 0]\n [0 0 1 0]\n [0 0 0 1]]\n"
        }
      ],
      "execution_count": 8
    },
    {
      "id": "a76ce9c8-2c1b-464b-a67e-ce328b5e1513",
      "cell_type": "code",
      "source": "#Create a 1D array of numbers from 100 to 200 with step size 10.\na = np.arange(100,201,10)\n\nprint(a)",
      "metadata": {
        "trusted": true
      },
      "outputs": [
        {
          "name": "stdout",
          "output_type": "stream",
          "text": "[100 110 120 130 140 150 160 170 180 190 200]\n"
        }
      ],
      "execution_count": 10
    },
    {
      "id": "dbce8569-01ef-44b8-b659-f9534afd3640",
      "cell_type": "code",
      "source": "#Generate a random 3×3 matrix and find its determinant.\nmatrix = np.random.rand(3,3)\ndet = np.linalg.det(matrix)\nprint(matrix)\nprint(\"Determinant:\", det)",
      "metadata": {
        "trusted": true
      },
      "outputs": [
        {
          "name": "stdout",
          "output_type": "stream",
          "text": "[[0.57088152 0.71037659 0.73082028]\n [0.94056541 0.51094481 0.5113945 ]\n [0.96795444 0.68430272 0.40256158]]\nDeterminant: 0.10924702965634273\n"
        }
      ],
      "execution_count": 17
    },
    {
      "id": "f4d6581c-b21f-41c6-be17-fb5409415cac",
      "cell_type": "code",
      "source": "#Create a NumPy array of 10 random integers between 1 and 100.\narr = np.random.randint(1, 101, size=10)\nprint(arr)",
      "metadata": {
        "trusted": true
      },
      "outputs": [
        {
          "name": "stdout",
          "output_type": "stream",
          "text": "[39 81 69 72 50 60 71 37 67 37]\n"
        }
      ],
      "execution_count": 19
    },
    {
      "id": "31f2a5c3-29cf-47b6-aaff-a865c8763475",
      "cell_type": "code",
      "source": "#Write a program to reshape a 1D array of size 12 into a 3×4 matrix.\narr = np.arange(1, 13)\nmatrix = arr.reshape(3, 4)\nprint(\"Original 1D array:\")\nprint(arr)\nprint(\"\\nReshaped 3x4 matrix:\")\nprint(matrix)\n\n",
      "metadata": {
        "trusted": true
      },
      "outputs": [
        {
          "name": "stdout",
          "output_type": "stream",
          "text": "Original 1D array:\n[ 1  2  3  4  5  6  7  8  9 10 11 12]\n\nReshaped 3x4 matrix:\n[[ 1  2  3  4]\n [ 5  6  7  8]\n [ 9 10 11 12]]\n"
        }
      ],
      "execution_count": 20
    },
    {
      "id": "65fab60a-7810-4584-a2f0-d25ffa4993ac",
      "cell_type": "code",
      "source": "#Create two 3×3 matrices and perform matrix multiplication.\na = np.arange(1, 13).reshape(3, 4)\nprint(a)\nb = np.arange(14,26).reshape(4,3)\nprint(b)\nm = np.matmul(a,b)\nprint(m)",
      "metadata": {
        "trusted": true
      },
      "outputs": [
        {
          "name": "stdout",
          "output_type": "stream",
          "text": "[[ 1  2  3  4]\n [ 5  6  7  8]\n [ 9 10 11 12]]\n[[14 15 16]\n [17 18 19]\n [20 21 22]\n [23 24 25]]\n[[200 210 220]\n [496 522 548]\n [792 834 876]]\n"
        }
      ],
      "execution_count": 26
    },
    {
      "id": "71d53fa5-b33d-4f79-87e7-1c715a56d332",
      "cell_type": "code",
      "source": "#Find eigenvalues and eigenvectors of a given 2×2 matrix using NumPy.\nA = np.array([[4, 2],\n              [1, 3]])\neigenvalues, eigenvectors = np.linalg.eig(A)\n\nprint(\"Matrix A:\")\nprint(A)\nprint(\"\\nEigenvalues:\")\nprint(eigenvalues)\nprint(\"\\nEigenvectors:\")\nprint(eigenvectors)",
      "metadata": {
        "trusted": true
      },
      "outputs": [
        {
          "name": "stdout",
          "output_type": "stream",
          "text": "Matrix A:\n[[4 2]\n [1 3]]\n\nEigenvalues:\n[5. 2.]\n\nEigenvectors:\n[[ 0.89442719 -0.70710678]\n [ 0.4472136   0.70710678]]\n"
        }
      ],
      "execution_count": 29
    },
    {
      "id": "63777768-4398-4b61-a024-06ef33d02e41",
      "cell_type": "code",
      "source": "#Create a 5×5 matrix with random values and extract its diagonal elements.\nmatrix = np.random.rand(5, 5)\nprint(\"5x5 Random Matrix:\\n\", matrix)\n\ndiagonal_elements = np.diag(matrix)\nprint(\"\\nDiagonal Elements:\", diagonal_elements)\n",
      "metadata": {
        "trusted": true
      },
      "outputs": [
        {
          "name": "stdout",
          "output_type": "stream",
          "text": "5x5 Random Matrix:\n [[0.86384199 0.8680826  0.74510154 0.94716298 0.03779399]\n [0.26035169 0.17600545 0.531126   0.84879979 0.94938534]\n [0.7410046  0.31328419 0.79305095 0.47912801 0.65291913]\n [0.97273873 0.8418689  0.71951627 0.07265434 0.68075354]\n [0.17262015 0.75847474 0.02492597 0.57746192 0.85925064]]\n\nDiagonal Elements: [0.86384199 0.17600545 0.79305095 0.07265434 0.85925064]\n"
        }
      ],
      "execution_count": 30
    },
    {
      "id": "7c36e88a-9d28-4d48-b914-fca95b619c72",
      "cell_type": "code",
      "source": "#Generate a 1D array and normalize it (scale values between 0 and 1).\narr = np.random.randint(1, 100, size=10)\nprint(\"Original Array:\", arr)\nnormalized = (arr - arr.min()) / (arr.max() - arr.min())\nprint(\"Normalized Array:\", normalized)",
      "metadata": {
        "trusted": true
      },
      "outputs": [
        {
          "name": "stdout",
          "output_type": "stream",
          "text": "Original Array: [57 58 82 23 18 43 66 92 98 43]\nNormalized Array: [0.4875 0.5    0.8    0.0625 0.     0.3125 0.6    0.925  1.     0.3125]\n"
        }
      ],
      "execution_count": 31
    },
    {
      "id": "6d882898-4a36-437f-8190-3fe2de5cfa88",
      "cell_type": "code",
      "source": "#Sort a NumPy array by row and column\narr = np.array([[34, 10, 5],\n                [12, 7, 25],\n                [18, 42, 3]])\nprint(\"Original Array:\\n\", arr)\nrow_sorted = np.sort(arr, axis=1)\nprint(\"\\nRow-wise Sorted:\\n\", row_sorted)\ncol_sorted = np.sort(arr, axis=0)\nprint(\"\\nColumn-wise Sorted:\\n\", col_sorted)",
      "metadata": {
        "trusted": true
      },
      "outputs": [
        {
          "name": "stdout",
          "output_type": "stream",
          "text": "Original Array:\n [[34 10  5]\n [12  7 25]\n [18 42  3]]\n\nRow-wise Sorted:\n [[ 5 10 34]\n [ 7 12 25]\n [ 3 18 42]]\n\nColumn-wise Sorted:\n [[12  7  3]\n [18 10  5]\n [34 42 25]]\n"
        }
      ],
      "execution_count": 32
    },
    {
      "id": "30994936-4c3a-406b-8803-b90184904e22",
      "cell_type": "code",
      "source": "#Find the indices of maximum and minimum values in a NumPy array\narr = np.array([12, 45, 7, 89, 23, 56])\nprint(\"Array:\", arr)\nprint(\"Index of Min Value:\", np.argmin(arr))\nprint(\"Index of Max Value:\", np.argmax(arr))",
      "metadata": {
        "trusted": true
      },
      "outputs": [
        {
          "name": "stdout",
          "output_type": "stream",
          "text": "Array: [12 45  7 89 23 56]\nIndex of Min Value: 2\nIndex of Max Value: 3\n"
        }
      ],
      "execution_count": 33
    },
    {
      "id": "39d04e9f-6459-443a-b92d-5c93ec7df47a",
      "cell_type": "code",
      "source": "#Create a 2D array and flatten it using ravel() and flatten()\narr = np.array([[1, 2, 3],\n                [4, 5, 6]])\n\nprint(\"Original Array:\\n\", arr)\n\nprint(\"\\nFlatten using ravel():\", arr.ravel())\nprint(\"Flatten using flatten():\", arr.flatten())\n",
      "metadata": {
        "trusted": true
      },
      "outputs": [
        {
          "name": "stdout",
          "output_type": "stream",
          "text": "Original Array:\n [[1 2 3]\n [4 5 6]]\n\nFlatten using ravel(): [1 2 3 4 5 6]\nFlatten using flatten(): [1 2 3 4 5 6]\n"
        }
      ],
      "execution_count": 34
    },
    {
      "id": "1b0933b9-8e86-40e4-94bc-68e84daf44ca",
      "cell_type": "code",
      "source": "#Create a 3×3 matrix and compute its inverse\nA = np.array([[2, 1, 1],\n              [1, 3, 2],\n              [1, 0, 0]])\n\ninverse_A = np.linalg.inv(A)\nprint(\"Matrix A:\\n\", A)\nprint(\"\\nInverse of A:\\n\", inverse_A)",
      "metadata": {
        "trusted": true
      },
      "outputs": [
        {
          "name": "stdout",
          "output_type": "stream",
          "text": "Matrix A:\n [[2 1 1]\n [1 3 2]\n [1 0 0]]\n\nInverse of A:\n [[ 0.  0.  1.]\n [-2.  1.  3.]\n [ 3. -1. -5.]]\n"
        }
      ],
      "execution_count": 35
    },
    {
      "id": "eae93745-7f80-4aa6-9916-cccf3130c73e",
      "cell_type": "code",
      "source": "#Generate a random permutation of numbers 1 to 10\nperm = np.random.permutation(np.arange(1, 11))\nprint(\"Random Permutation of 1–10:\", perm)",
      "metadata": {
        "trusted": true
      },
      "outputs": [
        {
          "name": "stdout",
          "output_type": "stream",
          "text": "Random Permutation of 1–10: [10  6  7  8  5  1  3  9  4  2]\n"
        }
      ],
      "execution_count": 36
    },
    {
      "id": "3532d891-0cb7-405c-bad1-b87f5861e4d0",
      "cell_type": "code",
      "source": "#Replace all even numbers with -1 in array 0–20\narr = np.arange(21)\nprint(\"Original Array:\", arr)\narr[arr % 2 == 0] = -1\nprint(\"Array after replacing evens with -1:\", arr)",
      "metadata": {
        "trusted": true
      },
      "outputs": [
        {
          "name": "stdout",
          "output_type": "stream",
          "text": "Original Array: [ 0  1  2  3  4  5  6  7  8  9 10 11 12 13 14 15 16 17 18 19 20]\nArray after replacing evens with -1: [-1  1 -1  3 -1  5 -1  7 -1  9 -1 11 -1 13 -1 15 -1 17 -1 19 -1]\n"
        }
      ],
      "execution_count": 37
    },
    {
      "id": "bdaed414-6c76-4a8e-89f9-2b2dbbcc6829",
      "cell_type": "code",
      "source": "#Generate a 5×5 random matrix and compute its trace\nmatrix = np.random.randint(1, 10, size=(5, 5))\nprint(\"5x5 Random Matrix:\\n\", matrix)\ntrace_val = np.trace(matrix)\nprint(\"\\nTrace of Matrix:\", trace_val)",
      "metadata": {
        "trusted": true
      },
      "outputs": [
        {
          "name": "stdout",
          "output_type": "stream",
          "text": "5x5 Random Matrix:\n [[3 9 1 1 2]\n [8 9 8 5 1]\n [6 4 3 5 4]\n [3 2 7 6 9]\n [5 1 9 6 5]]\n\nTrace of Matrix: 26\n"
        }
      ],
      "execution_count": 38
    },
    {
      "id": "11c9dd1e-c4f3-45ea-a343-5a1eeb913a28",
      "cell_type": "code",
      "source": "#Split a 1D array into 3 equal parts\narr = np.arange(9)\nprint(\"Original Array:\", arr)\nsplit_arr = np.split(arr, 3)\nprint(\"\\nSplit into 3 equal parts:\", split_arr)",
      "metadata": {
        "trusted": true
      },
      "outputs": [
        {
          "name": "stdout",
          "output_type": "stream",
          "text": "Original Array: [0 1 2 3 4 5 6 7 8]\n\nSplit into 3 equal parts: [array([0, 1, 2]), array([3, 4, 5]), array([6, 7, 8])]\n"
        }
      ],
      "execution_count": 39
    },
    {
      "id": "1dddef42-2133-4406-ae08-1472dba37ee6",
      "cell_type": "code",
      "source": "#Create a 3D array of shape (3,3,3) and find mean across axis=0\narr3d = np.random.randint(1, 10, size=(3, 3, 3))\nprint(\"3D Array:\\n\", arr3d)\nmean_axis0 = arr3d.mean(axis=0)\nprint(\"\\nMean across axis=0:\\n\", mean_axis0)",
      "metadata": {
        "trusted": true
      },
      "outputs": [
        {
          "name": "stdout",
          "output_type": "stream",
          "text": "3D Array:\n [[[9 2 2]\n  [1 8 3]\n  [5 4 9]]\n\n [[4 5 3]\n  [4 4 3]\n  [8 9 5]]\n\n [[7 8 6]\n  [1 6 7]\n  [7 4 9]]]\n\nMean across axis=0:\n [[6.66666667 5.         3.66666667]\n [2.         6.         4.33333333]\n [6.66666667 5.66666667 7.66666667]]\n"
        }
      ],
      "execution_count": 40
    },
    {
      "id": "4d7ac9e5-24ae-4b54-937d-d382487d7fbe",
      "cell_type": "code",
      "source": "#Find the cumulative sum of a NumPy array\narr = np.array([1, 2, 3, 4, 5])\nprint(\"Original Array:\", arr)\n\ncumsum = np.cumsum(arr)\nprint(\"Cumulative Sum:\", cumsum)",
      "metadata": {
        "trusted": true
      },
      "outputs": [
        {
          "name": "stdout",
          "output_type": "stream",
          "text": "Original Array: [1 2 3 4 5]\nCumulative Sum: [ 1  3  6 10 15]\n"
        }
      ],
      "execution_count": 41
    },
    {
      "id": "6b3d3737-72b9-48b4-9ad5-9487c16399fb",
      "cell_type": "code",
      "source": "#Create a 4×4 matrix with random integers and extract upper triangular matrix\nmat = np.random.randint(1, 20, size=(4, 4))\nprint(\"Original 4x4 Matrix:\\n\", mat)\n\nupper_tri = np.triu(mat)\nprint(\"\\nUpper Triangular Matrix:\\n\", upper_tri)\n",
      "metadata": {
        "trusted": true
      },
      "outputs": [
        {
          "name": "stdout",
          "output_type": "stream",
          "text": "Original 4x4 Matrix:\n [[ 7  2  3 11]\n [ 6  5  4  4]\n [16 10 14  8]\n [16 14 18 17]]\n\nUpper Triangular Matrix:\n [[ 7  2  3 11]\n [ 0  5  4  4]\n [ 0  0 14  8]\n [ 0  0  0 17]]\n"
        }
      ],
      "execution_count": 42
    },
    {
      "id": "7f6cd9fc-fff3-40cd-b115-a8bc145dde98",
      "cell_type": "code",
      "source": "#Generate a 6×6 checkerboard pattern (0,1)\ncheckerboard = np.zeros((6, 6), dtype=int)\ncheckerboard[1::2, ::2] = 1\ncheckerboard[::2, 1::2] = 1\nprint(\"6x6 Checkerboard Pattern:\\n\", checkerboard)",
      "metadata": {
        "trusted": true
      },
      "outputs": [
        {
          "name": "stdout",
          "output_type": "stream",
          "text": "6x6 Checkerboard Pattern:\n [[0 1 0 1 0 1]\n [1 0 1 0 1 0]\n [0 1 0 1 0 1]\n [1 0 1 0 1 0]\n [0 1 0 1 0 1]\n [1 0 1 0 1 0]]\n"
        }
      ],
      "execution_count": 43
    },
    {
      "id": "3a341804-4e01-4883-99b4-b2817f5f7d04",
      "cell_type": "code",
      "source": "#Generate a 3×3 random matrix and apply element-wise square root\nmat = np.random.randint(1, 20, size=(3, 3))\nprint(\"Original 3x3 Matrix:\\n\", mat)\n\nsqrt_mat = np.sqrt(mat)\nprint(\"\\nElement-wise Square Root:\\n\", sqrt_mat)",
      "metadata": {
        "trusted": true
      },
      "outputs": [
        {
          "name": "stdout",
          "output_type": "stream",
          "text": "Original 3x3 Matrix:\n [[17  2  9]\n [18 17  7]\n [14  2  2]]\n\nElement-wise Square Root:\n [[4.12310563 1.41421356 3.        ]\n [4.24264069 4.12310563 2.64575131]\n [3.74165739 1.41421356 1.41421356]]\n"
        }
      ],
      "execution_count": 44
    },
    {
      "id": "f0a67e56-a1a5-42d2-a14f-fceabecfe9b1",
      "cell_type": "code",
      "source": "#Create a 1D array of 20 elements and reverse it without slicing\nimport numpy as np\n\narr = np.arange(1, 21)\nprint(\"Original Array:\", arr)\n\nreversed_arr = np.flip(arr)   # instead of slicing [::-1]\nprint(\"Reversed Array:\", reversed_arr)\n",
      "metadata": {
        "trusted": true
      },
      "outputs": [
        {
          "name": "stdout",
          "output_type": "stream",
          "text": "Original Array: [ 1  2  3  4  5  6  7  8  9 10 11 12 13 14 15 16 17 18 19 20]\nReversed Array: [20 19 18 17 16 15 14 13 12 11 10  9  8  7  6  5  4  3  2  1]\n"
        }
      ],
      "execution_count": 45
    },
    {
      "id": "2fba53c0-d725-44a8-905d-e0e5b0fd5558",
      "cell_type": "code",
      "source": "#Merge two NumPy arrays vertically and horizontally\na = np.array([[1, 2],\n              [3, 4]])\nb = np.array([[5, 6],\n              [7, 8]])\nv_merge = np.vstack((a, b))\nprint(\"Vertical Merge:\\n\", v_merge)\nh_merge = np.hstack((a, b))\nprint(\"\\nHorizontal Merge:\\n\", h_merge)",
      "metadata": {
        "trusted": true
      },
      "outputs": [
        {
          "name": "stdout",
          "output_type": "stream",
          "text": "Vertical Merge:\n [[1 2]\n [3 4]\n [5 6]\n [7 8]]\n\nHorizontal Merge:\n [[1 2 5 6]\n [3 4 7 8]]\n"
        }
      ],
      "execution_count": 46
    },
    {
      "id": "7c40c2e2-3320-45f2-b15f-1d33a4472d2e",
      "cell_type": "code",
      "source": "#Compute row-wise and column-wise sum\narr = np.array([[1, 2, 3],\n                [4, 5, 6],\n                [7, 8, 9]])\n\nrow_sum = np.sum(arr, axis=1)\ncol_sum = np.sum(arr, axis=0)\n\nprint(\"Row-wise Sum:\", row_sum)\nprint(\"Column-wise Sum:\", col_sum)\n",
      "metadata": {
        "trusted": true
      },
      "outputs": [
        {
          "name": "stdout",
          "output_type": "stream",
          "text": "Row-wise Sum: [ 6 15 24]\nColumn-wise Sum: [12 15 18]\n"
        }
      ],
      "execution_count": 47
    },
    {
      "id": "f6e153c2-4526-479f-a286-e36e4d62f8e6",
      "cell_type": "code",
      "source": "#Replace NaN values in an array with column mean\narr = np.array([[1, 2, np.nan],\n                [4, np.nan, 6],\n                [7, 8, 9]], dtype=float)\n\ncol_mean = np.nanmean(arr, axis=0)\ninds = np.where(np.isnan(arr))\narr[inds] = np.take(col_mean, inds[1])\nprint(\"Array after replacing NaNs:\\n\", arr)\n",
      "metadata": {
        "trusted": true
      },
      "outputs": [
        {
          "name": "stdout",
          "output_type": "stream",
          "text": "Array after replacing NaNs:\n [[1.  2.  7.5]\n [4.  5.  6. ]\n [7.  8.  9. ]]\n"
        }
      ],
      "execution_count": 48
    },
    {
      "id": "4eccd1b8-ca7f-424b-bc27-97416f531d24",
      "cell_type": "code",
      "source": "#Compute cosine similarity between two arrays\nx = np.array([1, 2, 3])\ny = np.array([4, 5, 6])\n\ncos_sim = np.dot(x, y) / (np.linalg.norm(x) * np.linalg.norm(y))\nprint(\"Cosine Similarity:\", cos_sim)\n",
      "metadata": {
        "trusted": true
      },
      "outputs": [
        {
          "name": "stdout",
          "output_type": "stream",
          "text": "Cosine Similarity: 0.9746318461970762\n"
        }
      ],
      "execution_count": 49
    },
    {
      "id": "d9981342-3887-4bb4-a4fa-f9874ede5001",
      "cell_type": "code",
      "source": "#Rotate a 4×4 array by 90 degrees\narr = np.arange(1, 17).reshape(4, 4)\nprint(\"Original 4x4 Array:\\n\", arr)\nrotated = np.rot90(arr)\nprint(\"\\nRotated 90°:\\n\", rotated)",
      "metadata": {
        "trusted": true
      },
      "outputs": [
        {
          "name": "stdout",
          "output_type": "stream",
          "text": "Original 4x4 Array:\n [[ 1  2  3  4]\n [ 5  6  7  8]\n [ 9 10 11 12]\n [13 14 15 16]]\n\nRotated 90°:\n [[ 4  8 12 16]\n [ 3  7 11 15]\n [ 2  6 10 14]\n [ 1  5  9 13]]\n"
        }
      ],
      "execution_count": 54
    },
    {
      "id": "89384e6e-1578-4c57-bbcb-f339f0105693",
      "cell_type": "code",
      "source": "#Structured NumPy array (name, age, marks)\ndata = np.array([('Alice', 25, 85.5),\n                 ('Bob', 22, 90.0),\n                 ('Charlie', 23, 78.0)],\n                dtype=[('name', 'U10'), ('age', 'i4'), ('marks', 'f4')])\n\nprint(\"Structured Array:\\n\", data)\nprint(\"Names:\", data['name'])\nprint(\"Ages:\", data['age'])\nprint(\"Marks:\", data['marks'])\n",
      "metadata": {
        "trusted": true
      },
      "outputs": [
        {
          "name": "stdout",
          "output_type": "stream",
          "text": "Structured Array:\n [('Alice', 25, 85.5) ('Bob', 22, 90. ) ('Charlie', 23, 78. )]\nNames: ['Alice' 'Bob' 'Charlie']\nAges: [25 22 23]\nMarks: [85.5 90.  78. ]\n"
        }
      ],
      "execution_count": 55
    },
    {
      "id": "a10531ab-146f-4a44-8378-788152c4d927",
      "cell_type": "code",
      "source": "#Compute rank of a random 3×3 matrix\nmat = np.random.randint(1, 10, size=(3, 3))\nprint(\"Matrix:\\n\", mat)\n\nrank = np.linalg.matrix_rank(mat)\nprint(\"\\nRank of Matrix:\", rank)\n",
      "metadata": {
        "trusted": true
      },
      "outputs": [
        {
          "name": "stdout",
          "output_type": "stream",
          "text": "Matrix:\n [[2 2 2]\n [8 3 1]\n [3 9 8]]\n\nRank of Matrix: 3\n"
        }
      ],
      "execution_count": 56
    },
    {
      "id": "0e0fcb7c-b3e6-4f94-b123-24263ecb9015",
      "cell_type": "code",
      "source": "#Create a 5×5 random matrix and normalize each row to unit length\nmat = np.random.rand(5, 5)\nprint(\"Original Matrix:\\n\", mat)\nrow_norms = np.linalg.norm(mat, axis=1, keepdims=True)\nnormalized = mat / row_norms\nprint(\"\\nRow-normalized Matrix:\\n\", normalized)",
      "metadata": {
        "trusted": true
      },
      "outputs": [
        {
          "name": "stdout",
          "output_type": "stream",
          "text": "Original Matrix:\n [[0.32178768 0.55538859 0.44568668 0.17646074 0.98804051]\n [0.19832588 0.90624307 0.62618234 0.09238152 0.85501335]\n [0.42167248 0.3388157  0.95855799 0.39092212 0.38362259]\n [0.43105227 0.52600982 0.79980838 0.03545802 0.95887187]\n [0.3286916  0.20218459 0.99568282 0.78569178 0.76250144]]\n\nRow-normalized Matrix:\n [[0.25297626 0.43662371 0.35038057 0.13872619 0.77675688]\n [0.14050845 0.64204837 0.44363302 0.06544978 0.60575352]\n [0.34299055 0.27559443 0.77969598 0.31797806 0.31204058]\n [0.30307147 0.36983581 0.5623427  0.02493042 0.67417973]\n [0.21491738 0.13219986 0.65103442 0.51373025 0.49856708]]\n"
        }
      ],
      "execution_count": 57
    },
    {
      "id": "a57b9ccd-b914-4e17-bc29-f8c0ea47bb2e",
      "cell_type": "code",
      "source": "#Check whether two arrays are equal element-wise\na = np.array([1, 2, 3, 4])\nb = np.array([1, 2, 0, 4])\nprint(\"Element-wise equality:\", np.equal(a, b))\nprint(\"All elements equal?:\", np.array_equal(a, b))",
      "metadata": {
        "trusted": true
      },
      "outputs": [
        {
          "name": "stdout",
          "output_type": "stream",
          "text": "Element-wise equality: [ True  True False  True]\nAll elements equal?: False\n"
        }
      ],
      "execution_count": 58
    },
    {
      "id": "0181afbb-83c2-4fc0-9ea1-0fa4370f248e",
      "cell_type": "code",
      "source": "#Generate 1000 random numbers and compute histogram\ndata = np.random.randn(1000)\nhist, bins = np.histogram(data, bins=10)\n\nprint(\"Histogram counts:\", hist)\nprint(\"Bin edges:\", bins)",
      "metadata": {
        "trusted": true
      },
      "outputs": [
        {
          "name": "stdout",
          "output_type": "stream",
          "text": "Histogram counts: [  8  26  65 149 201 237 186  83  40   5]\nBin edges: [-2.87601769 -2.30821685 -1.74041601 -1.17261517 -0.60481434 -0.0370135\n  0.53078734  1.09858818  1.66638902  2.23418985  2.80199069]\n"
        }
      ],
      "execution_count": 59
    },
    {
      "id": "80165cd8-85a2-4dd1-a0eb-efd2ee013ac8",
      "cell_type": "code",
      "source": "#Apply broadcasting to add a 1D array to 2D array\narr2d = np.array([[1, 2, 3],\n                  [4, 5, 6]])\narr1d = np.array([10, 20, 30])\n\nresult = arr2d + arr1d\nprint(\"Broadcasted Addition:\\n\", result)",
      "metadata": {
        "trusted": true
      },
      "outputs": [
        {
          "name": "stdout",
          "output_type": "stream",
          "text": "Broadcasted Addition:\n [[11 22 33]\n [14 25 36]]\n"
        }
      ],
      "execution_count": 60
    },
    {
      "id": "00593d6e-1f3b-4b23-8d64-0ded5155bfc3",
      "cell_type": "code",
      "source": "#Find unique values and their counts in a NumPy array\narr = np.array([1, 2, 2, 3, 4, 4, 4, 5])\nunique_vals, counts = np.unique(arr, return_counts=True)\n\nprint(\"Unique values:\", unique_vals)\nprint(\"Counts:\", counts)",
      "metadata": {
        "trusted": true
      },
      "outputs": [
        {
          "name": "stdout",
          "output_type": "stream",
          "text": "Unique values: [1 2 3 4 5]\nCounts: [1 2 1 3 1]\n"
        }
      ],
      "execution_count": 61
    },
    {
      "id": "c0e84b53-9b78-455d-be56-045f538d09e0",
      "cell_type": "code",
      "source": "#Pearson correlation coefficient of two arrays\nx = np.array([10, 20, 30, 40, 50])\ny = np.array([5, 15, 25, 35, 45])\n\ncorr_matrix = np.corrcoef(x, y)\npearson_corr = corr_matrix[0, 1]\n\nprint(\"Pearson Correlation Coefficient:\", pearson_corr)",
      "metadata": {
        "trusted": true
      },
      "outputs": [
        {
          "name": "stdout",
          "output_type": "stream",
          "text": "Pearson Correlation Coefficient: 1.0\n"
        }
      ],
      "execution_count": 62
    },
    {
      "id": "af45bdd8-1c7f-4231-8e6a-c716168c137b",
      "cell_type": "code",
      "source": "#Compute numerical gradient of a 1D array\narr = np.array([1, 2, 4, 7, 11], dtype=float)\ngradient = np.gradient(arr)\n\nprint(\"Original Array:\", arr)\nprint(\"Numerical Gradient:\", gradient)\n",
      "metadata": {
        "trusted": true
      },
      "outputs": [
        {
          "name": "stdout",
          "output_type": "stream",
          "text": "Original Array: [ 1.  2.  4.  7. 11.]\nNumerical Gradient: [1.  1.5 2.5 3.5 4. ]\n"
        }
      ],
      "execution_count": 63
    },
    {
      "id": "017c5ee8-bccf-4930-b670-c8e7d92a2289",
      "cell_type": "code",
      "source": "#Perform Singular Value Decomposition (SVD)\nmat = np.random.rand(3, 3)\nprint(\"Original Matrix:\\n\", mat)\n\nU, S, Vt = np.linalg.svd(mat)\nprint(\"\\nU Matrix:\\n\", U)\nprint(\"\\nSingular Values:\", S)\nprint(\"\\nV^T Matrix:\\n\", Vt)",
      "metadata": {
        "trusted": true
      },
      "outputs": [
        {
          "name": "stdout",
          "output_type": "stream",
          "text": "Original Matrix:\n [[0.91124073 0.65209555 0.87000722]\n [0.08536735 0.34030176 0.89271443]\n [0.33677389 0.30001369 0.25352777]]\n\nU Matrix:\n [[-0.81971023  0.43145174 -0.37672873]\n [-0.49376063 -0.86562905  0.08298673]\n [-0.29030257  0.25403889  0.92259886]]\n\nSingular Values: [1.7079069  0.52794147 0.06757045]\n\nV^T Matrix:\n [[-0.51927345 -0.46235058 -0.71873989]\n [ 0.76677742  0.11930833 -0.63072808]\n [-0.37736915  0.87863386 -0.29256634]]\n"
        }
      ],
      "execution_count": 64
    },
    {
      "id": "37117368-c527-4fbd-b9c5-217acf57a796",
      "cell_type": "code",
      "source": "",
      "metadata": {
        "trusted": true
      },
      "outputs": [],
      "execution_count": null
    }
  ]
}